{
 "cells": [
  {
   "cell_type": "code",
   "execution_count": 1,
   "id": "b008e08f",
   "metadata": {},
   "outputs": [],
   "source": [
    "import pandas as pd\n",
    "import numpy as np\n",
    "import seaborn as sns\n",
    "\n",
    "from tqdm.notebook import tqdm"
   ]
  },
  {
   "cell_type": "code",
   "execution_count": 2,
   "id": "88e865e1",
   "metadata": {
    "scrolled": false
   },
   "outputs": [],
   "source": [
    "db = pd.read_parquet(\n",
    "    \"/home/sergey/projects/Credit_scoring/raw/train_data/train_data_0.pq\", \n",
    "    engine=\"pyarrow\"\n",
    ")"
   ]
  },
  {
   "cell_type": "code",
   "execution_count": 12,
   "id": "415cb25f",
   "metadata": {},
   "outputs": [
    {
     "data": {
      "text/plain": [
       "(1974724, 61)"
      ]
     },
     "execution_count": 12,
     "metadata": {},
     "output_type": "execute_result"
    }
   ],
   "source": [
    "db.shape"
   ]
  },
  {
   "cell_type": "code",
   "execution_count": 4,
   "id": "de47b544",
   "metadata": {
    "scrolled": true
   },
   "outputs": [
    {
     "data": {
      "text/html": [
       "<div>\n",
       "<style scoped>\n",
       "    .dataframe tbody tr th:only-of-type {\n",
       "        vertical-align: middle;\n",
       "    }\n",
       "\n",
       "    .dataframe tbody tr th {\n",
       "        vertical-align: top;\n",
       "    }\n",
       "\n",
       "    .dataframe thead th {\n",
       "        text-align: right;\n",
       "    }\n",
       "</style>\n",
       "<table border=\"1\" class=\"dataframe\">\n",
       "  <thead>\n",
       "    <tr style=\"text-align: right;\">\n",
       "      <th></th>\n",
       "      <th>rn</th>\n",
       "      <th>pre_since_opened</th>\n",
       "      <th>pre_since_confirmed</th>\n",
       "      <th>pre_pterm</th>\n",
       "      <th>pre_fterm</th>\n",
       "      <th>pre_till_pclose</th>\n",
       "      <th>pre_till_fclose</th>\n",
       "      <th>pre_loans_credit_limit</th>\n",
       "      <th>pre_loans_next_pay_summ</th>\n",
       "      <th>pre_loans_outstanding</th>\n",
       "      <th>...</th>\n",
       "      <th>enc_paym_21</th>\n",
       "      <th>enc_paym_22</th>\n",
       "      <th>enc_paym_23</th>\n",
       "      <th>enc_paym_24</th>\n",
       "      <th>enc_loans_account_holder_type</th>\n",
       "      <th>enc_loans_credit_status</th>\n",
       "      <th>enc_loans_credit_type</th>\n",
       "      <th>enc_loans_account_cur</th>\n",
       "      <th>pclose_flag</th>\n",
       "      <th>fclose_flag</th>\n",
       "    </tr>\n",
       "  </thead>\n",
       "  <tbody>\n",
       "    <tr>\n",
       "      <th>mean</th>\n",
       "      <td>6.537471</td>\n",
       "      <td>9.271325</td>\n",
       "      <td>8.330264</td>\n",
       "      <td>8.299071</td>\n",
       "      <td>8.309444</td>\n",
       "      <td>6.991781</td>\n",
       "      <td>8.337011</td>\n",
       "      <td>9.740888</td>\n",
       "      <td>2.399848</td>\n",
       "      <td>3.012951</td>\n",
       "      <td>...</td>\n",
       "      <td>2.313242</td>\n",
       "      <td>2.343014</td>\n",
       "      <td>2.376717</td>\n",
       "      <td>3.576724</td>\n",
       "      <td>1.027562</td>\n",
       "      <td>2.694898</td>\n",
       "      <td>3.353936</td>\n",
       "      <td>1.002386</td>\n",
       "      <td>0.172138</td>\n",
       "      <td>0.223934</td>\n",
       "    </tr>\n",
       "    <tr>\n",
       "      <th>std</th>\n",
       "      <td>5.121167</td>\n",
       "      <td>5.773757</td>\n",
       "      <td>4.593511</td>\n",
       "      <td>5.245598</td>\n",
       "      <td>4.464844</td>\n",
       "      <td>5.184165</td>\n",
       "      <td>4.233992</td>\n",
       "      <td>5.799625</td>\n",
       "      <td>1.376391</td>\n",
       "      <td>0.683844</td>\n",
       "      <td>...</td>\n",
       "      <td>1.247674</td>\n",
       "      <td>1.228473</td>\n",
       "      <td>1.205555</td>\n",
       "      <td>1.035586</td>\n",
       "      <td>0.276702</td>\n",
       "      <td>0.489136</td>\n",
       "      <td>1.057304</td>\n",
       "      <td>0.059093</td>\n",
       "      <td>0.377501</td>\n",
       "      <td>0.416878</td>\n",
       "    </tr>\n",
       "    <tr>\n",
       "      <th>min</th>\n",
       "      <td>1.000000</td>\n",
       "      <td>0.000000</td>\n",
       "      <td>0.000000</td>\n",
       "      <td>0.000000</td>\n",
       "      <td>0.000000</td>\n",
       "      <td>0.000000</td>\n",
       "      <td>0.000000</td>\n",
       "      <td>0.000000</td>\n",
       "      <td>0.000000</td>\n",
       "      <td>1.000000</td>\n",
       "      <td>...</td>\n",
       "      <td>0.000000</td>\n",
       "      <td>0.000000</td>\n",
       "      <td>0.000000</td>\n",
       "      <td>1.000000</td>\n",
       "      <td>0.000000</td>\n",
       "      <td>0.000000</td>\n",
       "      <td>0.000000</td>\n",
       "      <td>0.000000</td>\n",
       "      <td>0.000000</td>\n",
       "      <td>0.000000</td>\n",
       "    </tr>\n",
       "    <tr>\n",
       "      <th>25%</th>\n",
       "      <td>3.000000</td>\n",
       "      <td>4.000000</td>\n",
       "      <td>5.000000</td>\n",
       "      <td>4.000000</td>\n",
       "      <td>6.000000</td>\n",
       "      <td>1.000000</td>\n",
       "      <td>5.000000</td>\n",
       "      <td>5.000000</td>\n",
       "      <td>2.000000</td>\n",
       "      <td>3.000000</td>\n",
       "      <td>...</td>\n",
       "      <td>3.000000</td>\n",
       "      <td>3.000000</td>\n",
       "      <td>3.000000</td>\n",
       "      <td>4.000000</td>\n",
       "      <td>1.000000</td>\n",
       "      <td>2.000000</td>\n",
       "      <td>3.000000</td>\n",
       "      <td>1.000000</td>\n",
       "      <td>0.000000</td>\n",
       "      <td>0.000000</td>\n",
       "    </tr>\n",
       "    <tr>\n",
       "      <th>50%</th>\n",
       "      <td>5.000000</td>\n",
       "      <td>9.000000</td>\n",
       "      <td>9.000000</td>\n",
       "      <td>8.000000</td>\n",
       "      <td>8.000000</td>\n",
       "      <td>6.000000</td>\n",
       "      <td>10.000000</td>\n",
       "      <td>10.000000</td>\n",
       "      <td>2.000000</td>\n",
       "      <td>3.000000</td>\n",
       "      <td>...</td>\n",
       "      <td>3.000000</td>\n",
       "      <td>3.000000</td>\n",
       "      <td>3.000000</td>\n",
       "      <td>4.000000</td>\n",
       "      <td>1.000000</td>\n",
       "      <td>3.000000</td>\n",
       "      <td>4.000000</td>\n",
       "      <td>1.000000</td>\n",
       "      <td>0.000000</td>\n",
       "      <td>0.000000</td>\n",
       "    </tr>\n",
       "    <tr>\n",
       "      <th>75%</th>\n",
       "      <td>9.000000</td>\n",
       "      <td>14.000000</td>\n",
       "      <td>11.000000</td>\n",
       "      <td>13.000000</td>\n",
       "      <td>12.000000</td>\n",
       "      <td>12.000000</td>\n",
       "      <td>11.000000</td>\n",
       "      <td>15.000000</td>\n",
       "      <td>2.000000</td>\n",
       "      <td>3.000000</td>\n",
       "      <td>...</td>\n",
       "      <td>3.000000</td>\n",
       "      <td>3.000000</td>\n",
       "      <td>3.000000</td>\n",
       "      <td>4.000000</td>\n",
       "      <td>1.000000</td>\n",
       "      <td>3.000000</td>\n",
       "      <td>4.000000</td>\n",
       "      <td>1.000000</td>\n",
       "      <td>0.000000</td>\n",
       "      <td>0.000000</td>\n",
       "    </tr>\n",
       "    <tr>\n",
       "      <th>max</th>\n",
       "      <td>51.000000</td>\n",
       "      <td>19.000000</td>\n",
       "      <td>17.000000</td>\n",
       "      <td>17.000000</td>\n",
       "      <td>16.000000</td>\n",
       "      <td>16.000000</td>\n",
       "      <td>15.000000</td>\n",
       "      <td>19.000000</td>\n",
       "      <td>6.000000</td>\n",
       "      <td>5.000000</td>\n",
       "      <td>...</td>\n",
       "      <td>3.000000</td>\n",
       "      <td>3.000000</td>\n",
       "      <td>3.000000</td>\n",
       "      <td>4.000000</td>\n",
       "      <td>6.000000</td>\n",
       "      <td>6.000000</td>\n",
       "      <td>5.000000</td>\n",
       "      <td>3.000000</td>\n",
       "      <td>1.000000</td>\n",
       "      <td>1.000000</td>\n",
       "    </tr>\n",
       "  </tbody>\n",
       "</table>\n",
       "<p>7 rows × 60 columns</p>\n",
       "</div>"
      ],
      "text/plain": [
       "             rn  pre_since_opened  pre_since_confirmed  pre_pterm  pre_fterm  \\\n",
       "mean   6.537471          9.271325             8.330264   8.299071   8.309444   \n",
       "std    5.121167          5.773757             4.593511   5.245598   4.464844   \n",
       "min    1.000000          0.000000             0.000000   0.000000   0.000000   \n",
       "25%    3.000000          4.000000             5.000000   4.000000   6.000000   \n",
       "50%    5.000000          9.000000             9.000000   8.000000   8.000000   \n",
       "75%    9.000000         14.000000            11.000000  13.000000  12.000000   \n",
       "max   51.000000         19.000000            17.000000  17.000000  16.000000   \n",
       "\n",
       "      pre_till_pclose  pre_till_fclose  pre_loans_credit_limit  \\\n",
       "mean         6.991781         8.337011                9.740888   \n",
       "std          5.184165         4.233992                5.799625   \n",
       "min          0.000000         0.000000                0.000000   \n",
       "25%          1.000000         5.000000                5.000000   \n",
       "50%          6.000000        10.000000               10.000000   \n",
       "75%         12.000000        11.000000               15.000000   \n",
       "max         16.000000        15.000000               19.000000   \n",
       "\n",
       "      pre_loans_next_pay_summ  pre_loans_outstanding  ...  enc_paym_21  \\\n",
       "mean                 2.399848               3.012951  ...     2.313242   \n",
       "std                  1.376391               0.683844  ...     1.247674   \n",
       "min                  0.000000               1.000000  ...     0.000000   \n",
       "25%                  2.000000               3.000000  ...     3.000000   \n",
       "50%                  2.000000               3.000000  ...     3.000000   \n",
       "75%                  2.000000               3.000000  ...     3.000000   \n",
       "max                  6.000000               5.000000  ...     3.000000   \n",
       "\n",
       "      enc_paym_22  enc_paym_23  enc_paym_24  enc_loans_account_holder_type  \\\n",
       "mean     2.343014     2.376717     3.576724                       1.027562   \n",
       "std      1.228473     1.205555     1.035586                       0.276702   \n",
       "min      0.000000     0.000000     1.000000                       0.000000   \n",
       "25%      3.000000     3.000000     4.000000                       1.000000   \n",
       "50%      3.000000     3.000000     4.000000                       1.000000   \n",
       "75%      3.000000     3.000000     4.000000                       1.000000   \n",
       "max      3.000000     3.000000     4.000000                       6.000000   \n",
       "\n",
       "      enc_loans_credit_status  enc_loans_credit_type  enc_loans_account_cur  \\\n",
       "mean                 2.694898               3.353936               1.002386   \n",
       "std                  0.489136               1.057304               0.059093   \n",
       "min                  0.000000               0.000000               0.000000   \n",
       "25%                  2.000000               3.000000               1.000000   \n",
       "50%                  3.000000               4.000000               1.000000   \n",
       "75%                  3.000000               4.000000               1.000000   \n",
       "max                  6.000000               5.000000               3.000000   \n",
       "\n",
       "      pclose_flag  fclose_flag  \n",
       "mean     0.172138     0.223934  \n",
       "std      0.377501     0.416878  \n",
       "min      0.000000     0.000000  \n",
       "25%      0.000000     0.000000  \n",
       "50%      0.000000     0.000000  \n",
       "75%      0.000000     0.000000  \n",
       "max      1.000000     1.000000  \n",
       "\n",
       "[7 rows x 60 columns]"
      ]
     },
     "execution_count": 4,
     "metadata": {},
     "output_type": "execute_result"
    }
   ],
   "source": [
    "db.describe().iloc[1:, 1:]"
   ]
  },
  {
   "cell_type": "code",
   "execution_count": 7,
   "id": "ba13b380",
   "metadata": {},
   "outputs": [
    {
     "name": "stderr",
     "output_type": "stream",
     "text": [
      "/tmp/ipykernel_4574/1128466963.py:4: DeprecationWarning: `np.bool` is a deprecated alias for the builtin `bool`. To silence this warning, use `bool` by itself. Doing this will not modify any behavior and is safe. If you specifically wanted the numpy scalar type, use `np.bool_` here.\n",
      "Deprecated in NumPy 1.20; for more details and guidance: https://numpy.org/devdocs/release/1.20.0-notes.html#deprecations\n",
      "  upper = corr_matrix.where(np.triu(np.ones(corr_matrix.shape), k=1).astype(np.bool))\n"
     ]
    }
   ],
   "source": [
    "corr_matrix = db.corr(method='spearman').abs()\n",
    "\n",
    "# Select upper triangle of correlation matrix\n",
    "upper = corr_matrix.where(np.triu(np.ones(corr_matrix.shape), k=1).astype(np.bool))\n",
    "\n",
    "# Find features with correlation greater than 0.95\n",
    "to_drop = [column for column in upper.columns if any(upper[column] > 0.95)]\n",
    "\n",
    "# Drop features \n",
    "df = db.drop(to_drop, axis=1)"
   ]
  },
  {
   "cell_type": "code",
   "execution_count": 11,
   "id": "65d67b51",
   "metadata": {},
   "outputs": [
    {
     "data": {
      "text/plain": [
       "(1974724, 51)"
      ]
     },
     "execution_count": 11,
     "metadata": {},
     "output_type": "execute_result"
    }
   ],
   "source": [
    "df.shape"
   ]
  },
  {
   "cell_type": "code",
   "execution_count": 4,
   "id": "29183add",
   "metadata": {},
   "outputs": [
    {
     "data": {
      "text/plain": [
       "22"
      ]
     },
     "execution_count": 4,
     "metadata": {},
     "output_type": "execute_result"
    }
   ],
   "source": [
    "round(db.describe().iloc[1, 1] + db.describe().iloc[2, 1] * 3)"
   ]
  },
  {
   "cell_type": "code",
   "execution_count": 58,
   "id": "cde43ffb",
   "metadata": {
    "scrolled": true
   },
   "outputs": [
    {
     "data": {
      "text/plain": [
       "array([ 0,  1, 18,  9,  2,  3, 16, 10, 11,  3,  3,  0,  2, 11,  6, 16,  5,\n",
       "        4,  8,  1,  1,  1,  1,  1, 16,  2, 17,  1,  1,  1,  0,  0,  3,  3,\n",
       "        3,  3,  3,  3,  3,  3,  3,  4,  3,  3,  3,  3,  3,  3,  3,  3,  4,\n",
       "        3,  3,  3,  4,  1,  3,  4,  1,  0,  0], dtype=int8)"
      ]
     },
     "execution_count": 58,
     "metadata": {},
     "output_type": "execute_result"
    }
   ],
   "source": [
    "arr = db.values[0].astype(np.int8)\n",
    "arr"
   ]
  },
  {
   "cell_type": "code",
   "execution_count": 59,
   "id": "ff95aa78",
   "metadata": {},
   "outputs": [],
   "source": [
    "obj = arr.tobytes()"
   ]
  },
  {
   "cell_type": "code",
   "execution_count": 60,
   "id": "d5692ae3",
   "metadata": {},
   "outputs": [
    {
     "data": {
      "text/plain": [
       "b'\\x00\\x01\\x12\\t\\x02\\x03\\x10\\n\\x0b\\x03\\x03\\x00\\x02\\x0b\\x06\\x10\\x05\\x04\\x08\\x01\\x01\\x01\\x01\\x01\\x10\\x02\\x11\\x01\\x01\\x01\\x00\\x00\\x03\\x03\\x03\\x03\\x03\\x03\\x03\\x03\\x03\\x04\\x03\\x03\\x03\\x03\\x03\\x03\\x03\\x03\\x04\\x03\\x03\\x03\\x04\\x01\\x03\\x04\\x01\\x00\\x00'"
      ]
     },
     "execution_count": 60,
     "metadata": {},
     "output_type": "execute_result"
    }
   ],
   "source": [
    "obj"
   ]
  },
  {
   "cell_type": "code",
   "execution_count": 63,
   "id": "d40682ab",
   "metadata": {},
   "outputs": [
    {
     "data": {
      "text/plain": [
       "array([ 0,  1, 18,  9,  2,  3, 16, 10, 11,  3,  3,  0,  2, 11,  6, 16,  5,\n",
       "        4,  8,  1,  1,  1,  1,  1, 16,  2, 17,  1,  1,  1,  0,  0,  3,  3,\n",
       "        3,  3,  3,  3,  3,  3,  3,  4,  3,  3,  3,  3,  3,  3,  3,  3,  4,\n",
       "        3,  3,  3,  4,  1,  3,  4,  1,  0,  0], dtype=int8)"
      ]
     },
     "execution_count": 63,
     "metadata": {},
     "output_type": "execute_result"
    }
   ],
   "source": [
    "np.frombuffer(obj, dtype='int8')"
   ]
  }
 ],
 "metadata": {
  "kernelspec": {
   "display_name": "Python 3 (ipykernel)",
   "language": "python",
   "name": "python3"
  },
  "language_info": {
   "codemirror_mode": {
    "name": "ipython",
    "version": 3
   },
   "file_extension": ".py",
   "mimetype": "text/x-python",
   "name": "python",
   "nbconvert_exporter": "python",
   "pygments_lexer": "ipython3",
   "version": "3.10.7"
  }
 },
 "nbformat": 4,
 "nbformat_minor": 5
}
